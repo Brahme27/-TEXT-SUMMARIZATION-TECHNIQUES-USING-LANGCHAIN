{
 "cells": [
  {
   "cell_type": "markdown",
   "id": "9fe2e4a1",
   "metadata": {},
   "source": [
    "# When tokens fits in your LLM context window\n",
    "## Use these two summarization techniques\n",
    "## 1) MANUAL PROMPTING\n",
    "## 2) PROMPT TEMPLATE WITH LLMChain"
   ]
  },
  {
   "cell_type": "code",
   "execution_count": 27,
   "id": "3db370b1",
   "metadata": {},
   "outputs": [
    {
     "data": {
      "text/plain": [
       "True"
      ]
     },
     "execution_count": 27,
     "metadata": {},
     "output_type": "execute_result"
    }
   ],
   "source": [
    "import os \n",
    "from dotenv import load_dotenv\n",
    "load_dotenv()"
   ]
  },
  {
   "cell_type": "code",
   "execution_count": 28,
   "id": "96441178",
   "metadata": {},
   "outputs": [
    {
     "data": {
      "text/plain": [
       "ChatGroq(client=<groq.resources.chat.completions.Completions object at 0x000001F49DB114E0>, async_client=<groq.resources.chat.completions.AsyncCompletions object at 0x000001F49E1543A0>, model_name='Gemma2-9B-It', model_kwargs={}, groq_api_key=SecretStr('**********'))"
      ]
     },
     "execution_count": 28,
     "metadata": {},
     "output_type": "execute_result"
    }
   ],
   "source": [
    "from langchain_groq import ChatGroq\n",
    "api_key=os.getenv(\"GROQ_API_KEY\")\n",
    "llm=ChatGroq(groq_api_key=api_key,model=\"Gemma2-9B-It\")\n",
    "llm "
   ]
  },
  {
   "cell_type": "markdown",
   "id": "36fac629",
   "metadata": {},
   "source": [
    "# First Method of Text summarization\n",
    "## MANUAL PROMPTING"
   ]
  },
  {
   "cell_type": "code",
   "execution_count": 29,
   "id": "41d0696e",
   "metadata": {},
   "outputs": [],
   "source": [
    "from langchain.schema import (\n",
    "    AIMessage,\n",
    "    HumanMessage,\n",
    "    SystemMessage\n",
    ")"
   ]
  },
  {
   "cell_type": "code",
   "execution_count": 30,
   "id": "60a77352",
   "metadata": {},
   "outputs": [],
   "source": [
    "speech=\"\"\"\n",
    "Speech by Prime Minister Narendra Modi\n",
    "“Government with a Vision, Governance with a Mission”\n",
    "My dear brothers and sisters,\n",
    "\n",
    "I bow to the 140 crore citizens of this great nation. Your dreams, your aspirations, your struggles, and your spirit — they are the heartbeat of Bharat.\n",
    "\n",
    "Today, I speak to you on a subject that has guided our every action:\n",
    "Government with a Vision, Governance with a Mission.\n",
    "\n",
    "1. The Vision: A Developed and Self-Reliant India\n",
    "When we assumed office, we came not to enjoy power, but to shoulder responsibility. Our vision was clear:\n",
    "\n",
    "To make India a global manufacturing hub.\n",
    "\n",
    "To ensure that no citizen is left behind, regardless of caste, creed, or income.\n",
    "\n",
    "To make Digital India not just a slogan, but a revolution.\n",
    "\n",
    "To transform Ease of Living and Ease of Doing Business.\n",
    "\n",
    "Our vision is rooted in the dreams of Mahatma Gandhi, the wisdom of Swami Vivekananda, the strength of Netaji, and the aspirations of our youth.\n",
    "\n",
    "We dream of a Viksit Bharat by 2047, and every decision we take is a step towards that destiny.\n",
    "\n",
    "With vision, we will know our destination.\n",
    "With mission, we will walk that path — with courage, confidence, and conviction.\n",
    "\n",
    "Bharat Mata Ki Jai!\n",
    "Jai Hind!\n",
    "\"\"\""
   ]
  },
  {
   "cell_type": "code",
   "execution_count": 31,
   "id": "0caed15a",
   "metadata": {},
   "outputs": [
    {
     "data": {
      "text/plain": [
       "1199"
      ]
     },
     "execution_count": 31,
     "metadata": {},
     "output_type": "execute_result"
    }
   ],
   "source": [
    "len(speech)"
   ]
  },
  {
   "cell_type": "code",
   "execution_count": 32,
   "id": "0b6fe857",
   "metadata": {},
   "outputs": [],
   "source": [
    "chat_messgae=[\n",
    "    SystemMessage(content=\"You are expert with expertise in summarizing speech\"),\n",
    "    HumanMessage(content=f\"Please provide a short and concise summary of the following speech:\\n speech:{speech}\")\n",
    "]"
   ]
  },
  {
   "cell_type": "code",
   "execution_count": 33,
   "id": "b41d997a",
   "metadata": {},
   "outputs": [
    {
     "data": {
      "text/plain": [
       "303"
      ]
     },
     "execution_count": 33,
     "metadata": {},
     "output_type": "execute_result"
    }
   ],
   "source": [
    "import warnings\n",
    "warnings.filterwarnings(\"ignore\")\n",
    "llm.get_num_tokens(speech)"
   ]
  },
  {
   "cell_type": "markdown",
   "id": "42c9578c",
   "metadata": {},
   "source": [
    "# Before summarizing"
   ]
  },
  {
   "cell_type": "code",
   "execution_count": 55,
   "id": "ce9da30a",
   "metadata": {},
   "outputs": [
    {
     "data": {
      "text/plain": [
       "1199"
      ]
     },
     "execution_count": 55,
     "metadata": {},
     "output_type": "execute_result"
    }
   ],
   "source": [
    "len(speech)"
   ]
  },
  {
   "cell_type": "code",
   "execution_count": 56,
   "id": "3f12e84c",
   "metadata": {},
   "outputs": [
    {
     "data": {
      "text/plain": [
       "AIMessage(content='Prime Minister Modi\\'s speech emphasizes the government\\'s commitment to a \"vision\" of a developed and self-reliant India by 2047, and \"mission-driven\" governance to achieve it. \\n\\nKey goals include:\\n\\n* Making India a global manufacturing hub\\n* Ensuring inclusivity for all citizens\\n* Driving Digital India as a revolution\\n* Improving Ease of Living and Doing Business\\n\\nThe speech draws inspiration from national figures and highlights the government\\'s determination to achieve these goals with courage, confidence, and conviction.  \\n\\n', additional_kwargs={}, response_metadata={'token_usage': {'completion_tokens': 115, 'prompt_tokens': 315, 'total_tokens': 430, 'completion_time': 0.209090909, 'prompt_time': 0.014571801, 'queue_time': 0.24767833700000003, 'total_time': 0.22366271}, 'model_name': 'Gemma2-9B-It', 'system_fingerprint': 'fp_10c08bf97d', 'finish_reason': 'stop', 'logprobs': None}, id='run--91ec1048-4ee6-408b-b06b-b7a5cd2064b9-0', usage_metadata={'input_tokens': 315, 'output_tokens': 115, 'total_tokens': 430})"
      ]
     },
     "execution_count": 56,
     "metadata": {},
     "output_type": "execute_result"
    }
   ],
   "source": [
    "llm(chat_messgae)"
   ]
  },
  {
   "cell_type": "markdown",
   "id": "1e6517d3",
   "metadata": {},
   "source": [
    "# After summarizing"
   ]
  },
  {
   "cell_type": "code",
   "execution_count": null,
   "id": "0e4af45b",
   "metadata": {},
   "outputs": [
    {
     "data": {
      "text/plain": [
       "703"
      ]
     },
     "execution_count": 35,
     "metadata": {},
     "output_type": "execute_result"
    }
   ],
   "source": [
    "len(llm(chat_messgae).content)"
   ]
  },
  {
   "cell_type": "markdown",
   "id": "edbe966e",
   "metadata": {},
   "source": [
    "# Second Method Of Text Summarization"
   ]
  },
  {
   "cell_type": "markdown",
   "id": "c19cfa03",
   "metadata": {},
   "source": [
    "## PROMPT TEMPLATE WITH LLMChain"
   ]
  },
  {
   "cell_type": "code",
   "execution_count": 36,
   "id": "1eee2a75",
   "metadata": {},
   "outputs": [
    {
     "data": {
      "text/plain": [
       "PromptTemplate(input_variables=['language', 'speech'], input_types={}, partial_variables={}, template='\\nWrite the summary of the Following Speech:\\nSpeech:{speech}\\nTransalate the precise summary to {language}\\n')"
      ]
     },
     "execution_count": 36,
     "metadata": {},
     "output_type": "execute_result"
    }
   ],
   "source": [
    "# combining the prompt template with LLM is known as LLMChain\n",
    "from langchain.chains import LLMChain\n",
    "from langchain import PromptTemplate\n",
    "\n",
    "\n",
    "generic_template=\"\"\"\n",
    "Write the summary of the Following Speech:\n",
    "Speech:{speech}\n",
    "Transalate the precise summary to {language}\n",
    "\"\"\"\n",
    "\n",
    "prompt=PromptTemplate(\n",
    "    input_variables=[\"speech\",\"language \"],\n",
    "    template=generic_template\n",
    ")\n",
    "\n",
    "prompt"
   ]
  },
  {
   "cell_type": "code",
   "execution_count": 37,
   "id": "5bb53967",
   "metadata": {},
   "outputs": [
    {
     "data": {
      "text/plain": [
       "'\\nWrite the summary of the Following Speech:\\nSpeech:\\nSpeech by Prime Minister Narendra Modi\\n“Government with a Vision, Governance with a Mission”\\nMy dear brothers and sisters,\\n\\nI bow to the 140 crore citizens of this great nation. Your dreams, your aspirations, your struggles, and your spirit — they are the heartbeat of Bharat.\\n\\nToday, I speak to you on a subject that has guided our every action:\\nGovernment with a Vision, Governance with a Mission.\\n\\n1. The Vision: A Developed and Self-Reliant India\\nWhen we assumed office, we came not to enjoy power, but to shoulder responsibility. Our vision was clear:\\n\\nTo make India a global manufacturing hub.\\n\\nTo ensure that no citizen is left behind, regardless of caste, creed, or income.\\n\\nTo make Digital India not just a slogan, but a revolution.\\n\\nTo transform Ease of Living and Ease of Doing Business.\\n\\nOur vision is rooted in the dreams of Mahatma Gandhi, the wisdom of Swami Vivekananda, the strength of Netaji, and the aspirations of our youth.\\n\\nWe dream of a Viksit Bharat by 2047, and every decision we take is a step towards that destiny.\\n\\nWith vision, we will know our destination.\\nWith mission, we will walk that path — with courage, confidence, and conviction.\\n\\nBharat Mata Ki Jai!\\nJai Hind!\\n\\nTransalate the precise summary to Telugu\\n'"
      ]
     },
     "execution_count": 37,
     "metadata": {},
     "output_type": "execute_result"
    }
   ],
   "source": [
    "complete_prompt=prompt.format(speech=speech,language=\"Telugu\")\n",
    "complete_prompt"
   ]
  },
  {
   "cell_type": "code",
   "execution_count": 38,
   "id": "4f45bb46",
   "metadata": {},
   "outputs": [
    {
     "data": {
      "text/plain": [
       "327"
      ]
     },
     "execution_count": 38,
     "metadata": {},
     "output_type": "execute_result"
    }
   ],
   "source": [
    "llm.get_num_tokens(complete_prompt)"
   ]
  },
  {
   "cell_type": "code",
   "execution_count": 39,
   "id": "fe4517cb",
   "metadata": {},
   "outputs": [
    {
     "data": {
      "text/plain": [
       "'## प्रधानमंत्री नरेंद्र मोदी के भाषण का सारांश:\\n\\nयह भाषण भारत के 140 करोड़ नागरिकों को समर्पित है। प्रधानमंत्री मोदी ने \"सरकार के साथ दृष्टि, शासन के साथ मिशन\" विषय पर भाषण दिया।  उनका मुख्य संदेश यह है कि सरकार का लक्ष्य एक विकसित और आत्मनिर्भर भारत बनाना है।  \\n\\n**उनके लक्ष्य निम्नलिखित हैं:**\\n\\n* भारत को एक वैश्विक विनिर्माण केंद्र में स्थापित करना।\\n* सभी नागरिकों के लिए समान अवसर और विकास सुनिश्चित करना, चाहे उनकी जाति, धर्म या आय कुछ भी हो।\\n* डिजिटल भारत को एक क्रांति के रूप में स्थापित करना।\\n* जीवन और व्यापार को सरल बनाना।\\n\\nप्रधानमंत्री मोदी ने कहा कि ये लक्ष्य महात्मा गांधी, स्वामी विवेकानंद, नेताजी और युवाओं के सपनों पर आधारित हैं।  उनका लक्ष्य 2047 तक विकसित भारत का निर्माण करना है और हर निर्णय इसी दिशा में एक कदम है।\\n\\n**उन्होंने कहा:**\\n\\n* \"दृष्टि हमें गंतव्य बताएगी।\\n* मिशन हमें उस रास्ते पर आगे बढ़ाएगा - साहस, आत्मविश्वास और दृढ़ निश्चय के साथ।\"\\n\\n**भारत माता की जय! जय हिंद!**\\n\\n\\n'"
      ]
     },
     "execution_count": 39,
     "metadata": {},
     "output_type": "execute_result"
    }
   ],
   "source": [
    "llm_chain=LLMChain(\n",
    "    llm=llm,\n",
    "    prompt=prompt\n",
    ")\n",
    "\n",
    "summary=llm_chain.run({'speech':speech,'language':'hindi'})\n",
    "summary"
   ]
  },
  {
   "cell_type": "markdown",
   "id": "f05935a6",
   "metadata": {},
   "source": [
    "# When Tokens Does not fits in the context window size use these techniques\n",
    "## 1) STUFF DOCUMENT CHAIN summarizarion technique\n",
    "## 2) MAP REDUCE summarization technique\n",
    "## 3) REFINE CHAIN summarization technique\n"
   ]
  },
  {
   "cell_type": "code",
   "execution_count": 40,
   "id": "c4b32193",
   "metadata": {},
   "outputs": [],
   "source": [
    "# Stuff document chain text summarization\n",
    "from langchain_community.document_loaders import PyPDFLoader\n",
    "\n",
    "loader=PyPDFLoader(\"apjspeech.pdf\")\n",
    "\n",
    "docs=loader.load_and_split()\n",
    "\n",
    "# docs"
   ]
  },
  {
   "cell_type": "code",
   "execution_count": 41,
   "id": "c2cb56e7",
   "metadata": {},
   "outputs": [],
   "source": [
    "template=\"\"\"\n",
    "write a concise and short summary of the following speech,\n",
    "speech :{text}\n",
    "\"\"\"\n",
    "\n",
    "prompt=PromptTemplate(input_variables=[\"text\"],template=template)\n",
    "\n"
   ]
  },
  {
   "cell_type": "code",
   "execution_count": 42,
   "id": "2d7ce968",
   "metadata": {},
   "outputs": [
    {
     "name": "stdout",
     "output_type": "stream",
     "text": [
      "\n",
      "\n",
      "\u001b[1m> Entering new StuffDocumentsChain chain...\u001b[0m\n",
      "\n",
      "\n",
      "\u001b[1m> Entering new LLMChain chain...\u001b[0m\n",
      "Prompt after formatting:\n",
      "\u001b[32;1m\u001b[1;3m\n",
      "write a concise and short summary of the following speech,\n",
      "speech :A P J Abdul Kalam Departing speech \n",
      " \n",
      " \n",
      "Friends, I am delighted to address you all, in the country and those livi ng abroad, after \n",
      "working with you and completing five beautiful and eventful years in Rashtrapati \n",
      "Bhavan. Today, it is indeed a thanks giving occasion. I would like to narr ate, how I \n",
      "enjoyed every minute of my tenure enriched by the wonderful assoc iation from each one \n",
      "of you, hailing from different walks of life, be it politics, sci ence and technology, \n",
      "academics, arts, literature, business, judiciary, administration, local bodies, farming, \n",
      "home makers, special children, media and above all from the youth and st udent \n",
      "community who are the future wealth of our country. During my intera ction at \n",
      "Rashtrapati Bhavan in Delhi and at every state and union territor y as well as through my \n",
      "online interactions, I have many unique experiences to share with you, which signify the \n",
      "following important messages: \n",
      " \n",
      "1. Accelerate development : Aspiration of the youth, \n",
      " \n",
      "2. Empower villages, \n",
      " \n",
      "3. Mobilize rural core competence for competitiveness, \n",
      " \n",
      "4. Seed to Food: Backbone for agricultural growth \n",
      " \n",
      "5. Defeat problems and succeed, \n",
      " \n",
      "6. Overcome problems through partnership, \n",
      " \n",
      "7. Courage in combating calamities, \n",
      " \n",
      "8. Connectivity for societal transformation, \n",
      " \n",
      "9. Defending the nation: Our pride and \n",
      " \n",
      "10. Youth movement for Developed India 2020. \n",
      " \n",
      "Now let me share with you each of the messages. \n",
      " \n",
      "Accelerate Development: Aspiration of the youth \n",
      "While there were many significant events during my tenure, a que stion from a little girl \n",
      "Anukriti of Sri Sathya Sai Jagriti Vidya Mandir School, of Dar wa village from Haryana, \n",
      "during children’s visit to Rashtrapati Bhavan on May 22, 2006, rings in my  mind ever \n",
      "after. \n",
      " \n",
      "Anukriti asked me “why India cannot become a developed nation before the year 2020”. I \n",
      "appreciated the question and said it was indeed a thoughtful question and as sured her that \n",
      "that her dream would be taken to the highest institution of the nation and we would work\n",
      "\n",
      "for it to achieve before 2020. This question reflects how the desire t o live in developed \n",
      "India has entered into the minds of the youth. The same feelings are  echoed by over \n",
      "fifteen lakh youth, whom I have met so far and who represent the drea m of the 540 \n",
      "million youth of the nation. The aspirations of the young to live in a prosperous, safe and \n",
      "proud India should be the guiding factor in whatever profession we contribute. \n",
      " \n",
      "Empower Villages \n",
      "Friends, I recall my visit to Nagaland on 26th October 2002, soon after m y assuming \n",
      "office as President. It was a unique experience for me at Khuza ma village to meet tribal \n",
      "village council members and discuss with them the village progress  and the dream of \n",
      "village citizens. I was very happy to see the empowered village  council functioning with \n",
      "financial powers and taking decisions. I saw a prosperous village with fruits and \n",
      "vegetables production. However, there is a need for providing physical c onnectivity in \n",
      "Nagaland through quality roads for enabling faster movement of produ cts from villages \n",
      "to the market. That meeting gave me a powerful message about the t ransformation which \n",
      "can take place to the 600,000 villages of India, if all the villages a re empowered to deal \n",
      "with their development and are well connected among themselves and wit h the urban \n",
      "societies. \n",
      " \n",
      "Mobilizing rural core competence for competitiveness \n",
      "Now I would like to talk about the initiative of Periyar Maniammai  College of \n",
      "Technology for Women, Vallam, Tanjore of Providing Urban Amenities in Rural Areas \n",
      "(PURA) complex involving 65 villages with a population of 3 lakhs. This inc ludes \n",
      "provision of three connectivities - physical, electronic and knowledge  - leading to \n",
      "economic connectivity. Periyar PURA has health care centers, pr imary to post graduate \n",
      "level education and vocational training centers. This has resulted i n large-scale \n",
      "employment generation and creation of number of entrepreneurs with the  active support \n",
      "of 1000 self-help groups. Two hundred acres of waste land has been develope d into a \n",
      "cultivable land. The villagers are busy in cultivation, planting Jatropha, herbal and \n",
      "medicinal plants, power generation using bio-mass, food processing and above all \n",
      "running marketing centers. It provides a sustainable economic development model for the \n",
      "whole region. \n",
      " \n",
      "During the last eight months, people of Periyar PURA villages technologically supported \n",
      "by Periyar Maniammai College of Engineering for Women have w orked with experts \n",
      "from Japan External Trade Organisation (JETRO) on various products, for  which core \n",
      "competence and raw material are available in Thanjavur district. They developed \n",
      "internationally competitive prototypes for 55 life style products wi th support of JETRO \n",
      "specialists and feedback from exhibitions at Delhi and Tokyo. This co -operative venture \n",
      "has enhanced the innovative ability of the people of all the 65 villages  enabling them to \n",
      "develop and produce internationally acceptable products. I have seen si milar type of \n",
      "PURA being established in many states. The whole country needs 7000 PU RA to \n",
      "bridging the rural – urban divide. \n",
      " \n",
      "Seed to Food: Backbone for agricultural growth\n",
      "\n",
      "Let me now share with you, the enriching experience I had, whil e meeting more than \n",
      "6000 farmers from different States and Union Territories visitin g Rashtrapati Bhavan. \n",
      "They evinced keen interest in the Mughal Gardens, the Herbal Gardens , the Spiritual \n",
      "Garden, the Musical Garden, the Bio-diesel garden and the Nutrition Garden and interact \n",
      "with the Horticultural specialists. Recently, during my address to the agricultural \n",
      "scientists while participating in a National Symposium on “Agri culture Cannot Wait”, I \n",
      "summarized the many practical suggestions given by farmers. W e have to double the \n",
      "agricultural production with reduced land, reduced water resources and re duced \n",
      "manpower and improve the economic conditions of the nation through the principle  of \n",
      "“Seed to Food” since agriculture is the backbone of the nation. We should em power the \n",
      "farmers to protect and nurture the fertile land for second green re volution. Meeting the \n",
      "Scientists and the Farmers has given me the confidence \n",
      "that the nation is poised to increase the agricultural GDP growth by atleast 4% per annum \n",
      "through the partnership of farmers and agricultural scientists a nd industries particularly \n",
      "for value addition. \n",
      " \n",
      "Defeat the problems and succeed \n",
      "On the evening of February 24, 2007, at Coimbatore, I had a very beautif ul experience. \n",
      "As I got ready for meeting the first person out of twenty appoint ments, a wheel chair was \n",
      "in sight with a smiling person probably in his late fifties; unfortunately he has no hands \n",
      "and legs. His radiant face was revealing his happy state of mi nd. He introduced himself \n",
      "as Vidwan Coimbatore SR Krishna Murthy. I greeted him and asked him  how this had \n",
      "happened. He smilingly said that it was from by birth. He thanked G od, his parents, \n",
      "teachers and many others for giving him confidence, training and he lp. I asked him, what \n",
      "I could do for him? He said, “I don’t need anything from you. I would like to sing in fr ont \n",
      "of you”. I readily agreed. He sang melodiously the Saint Thyagraj a’s pancha ratna kriti \n",
      "entharo mahanubavulu in Sriragam giving me a glimpse of his talent. I was quite touched. \n",
      "What is the message? Despite being physically challenged, the latent talent of music \n",
      "could blossom in this \n",
      "person with his positive attitude and perseverance, encouraged by the pa rents, teachers, \n",
      "academics and rasikas. Now he wants to give, give and give his art to inspire others. Of \n",
      "course, by his merit of music, in July 2007, he performed in the Rashtra pati Bhavan art \n",
      "theatre. \n",
      " \n",
      "Overcome the impact of disaster through partnership \n",
      "I had the opportunity to experience the Indomitable Spirit of the people  and children of \n",
      "Jammu & Kashmir even as they were just recovering from the de vastating earthquake in \n",
      "2005. I visited Urusa village on 26th November 2005 which has been adopted by the  \n",
      "Western Air Command, Air Force for providing relief and medical aid to the residents of \n",
      "that area. When I went there, I found that the school building had been severely damaged. \n",
      "I met all the school children and the village citizen of Urusa. The villagers apprised me of \n",
      "their losses and had all praise for Army and Air Force role in rescue and relief operations \n",
      "along with state government. I appreciate the courage of the people of Urusa in defeating \n",
      "their problems. They have actually become the master of the probl em rather than \n",
      "allowing problems to become their master. Despite the severe l oss due to the earthquake,\n",
      "\n",
      "the children and the members of the village participated in the reli ef operation with the \n",
      "Armed Forces \n",
      "bravely and were smiling when I went to meet them. They interact ed with me and said \n",
      "that the school was functional in the temporary tents. Here, I also witnessed the \n",
      "participation of acting Chief Justice of Jammu & Kashmir along with State Government \n",
      "authorities in on-the-spot settlement of relief grants to be provide d to the victims whose \n",
      "houses had been damaged in the earth quake. I have experienced many s uch acts of \n",
      "courage from our citizens when faced with severe challenges. \n",
      " \n",
      "Courage in combating calamities \n",
      "In 2005, I met the Tribal Council Leaders, Students, Children of Chuckchucha  village \n",
      "during my visit to Car Nicobar Islands. While various reconstruction a nd rehabilitation \n",
      "activities were in progress, during the discussions with the members  of tribal council, I \n",
      "realized the unique trait among the Car-Nicobar islanders. Even thoug h there were many \n",
      "human losses due to the Tsunami of 26 Dec 2004, the tribal islanders had  taken \n",
      "possession of affected victims as their children and there is nothi ng like orphanage in \n",
      "Car-Nicobar Islands. Touched by their courage, I composed few vers es called “Sea \n",
      "Waves” which reads as follows: \n",
      "Sea Waves \n",
      " \n",
      "We are the children of Sea waves, \n",
      "Sea waves are my friends. \n",
      "When they become angry, \n",
      "Sea waves give the challenges. \n",
      "God has given the courage, \n",
      "To challenge the sea waves. \n",
      "And we will succeed, \n",
      "We will succeed \n",
      "With Almighty’s grace. \n",
      "All the members who were gathered in the village sang the poem  with me and exhibited \n",
      "lots of courage and enthusiasm even though they had gone through severe  suffering \n",
      "during the Tsunami. \n",
      " \n",
      "Connectivity for societal transformation \n",
      "I addressed the Pan African Parliament on 16 September 2004, at Johanne sburg, South \n",
      "Africa. This was attended by 53 member countries of the Africa n Union, where I \n",
      "proposed the concept of Pan African e-Network for providing seamless and integrated \n",
      "satellite, fiber optics and wireless network connecting 53 African countries at an \n",
      "estimated cost of US $ 100 million. \n",
      " \n",
      "As part of the project 12 universities (7 from India and 5 from Afri ca), 17 Super \n",
      "Specialty Hospitals (12 from India and 5 from Africa), 53 tele-me dicine centers and 53 \n",
      "tele-education centres in Africa will be connected. The pilot project on tele-education and \n",
      "tele-medicine in Ethiopia has already been commissioned. Indira Gandh i National Open \n",
      "University has taken up the MBA Course for 34 Ethiopian students of Addis  Ababa and \n",
      "Harmaya Universities. As regards, tele-medicine, the special ists from CARE Hospital,\n",
      "\n",
      "Hyderabad are providing one-hour live tele-consultation to doctors in B lack Lion \n",
      "Hospital, Addis Ababa in Cardiology and Radiology since November 2006. Using the \n",
      "Pan African network the Heads of the State in all the 53 countries  will be connected for \n",
      "instant communication. I am extremely happy that Indian experience  in bringing the \n",
      "benefits of technology to the people has enabled us to work with Afric a to bring societal \n",
      "transformation in the African continent. \n",
      " \n",
      "Defending the nation: Our pride \n",
      "I visited KUMAR in Siachen Glacier located at 17,000 feet altitude  held by the Indian \n",
      "Army, had a memorable underwater journey in INS Sindhurakshak and flew  in a Sukhoi-\n",
      "30 fighter experiencing 2.5 g. In these three experiences, I personal ly felt proud of our \n",
      "ever vigilant Soldiers, Sailors and Air Warriors performing their  tasks beyond the call of \n",
      "their duty even in the most adverse circumstances natural and man m ade. During the last \n",
      "five years, I had an opportunity to present colours to many regime nts, participate in \n",
      "number of passing out parades, meet the troops who were going to undertake  peace \n",
      "missions and interact with the family members of our Defence F orces. Our Defence \n",
      "Forces are in a beautiful mission. When the nation sleeps during night , Members of our \n",
      "Defence teams are awake to guard us and remain vigilant to counte r any threat. The \n",
      "Nation cherishes the valour, commitment and devotion to duty of our Defenc e Forces. \n",
      "Similarly, I had opportunities to interact \n",
      "with members of our para-military forces, central and state poli ce personnel including \n",
      "internal security forces who are making immense contribution in au gmenting the safety \n",
      "and security of our citizens under difficult conditions. \n",
      " \n",
      "Youth movement for Developed India 2020 \n",
      "Recently, in Hyderabad, I met a group of citizens who are putting i nto practice the motto \n",
      "of transforming of our youth into enlightened citizen. The Lead India 2020 Found ation \n",
      "created by Dr. N.B. Sudershan at Hyderabad is training thousands of s tudents in many \n",
      "districts of Andhra Pradesh in partnership with the District Adm inistration. Particularly, I \n",
      "happened to know the transformation which has taken place among the students  of \n",
      "Medak district. As per the district authorities the impact of the  training on the students is \n",
      "visible in terms of self-discipline, love for their parents and tea chers shedding of stage \n",
      "fear and recognition of their duties towards the nation. I talke d to Ms. Padma, a student \n",
      "leader from Andhra Pradesh Tribal Welfare School, Nalgonda who relat ed how she \n",
      "weaned her father away from smoking after imbibing the spirit of  the 10 point oath from \n",
      "the Lead India Training Camp. This gives me an assurance that the  youth of our country \n",
      "are on the right path \n",
      "through this mission oriented programme. With the ignited minds of the  540 million \n",
      "youth below the age of 25, which I consider is the most powerful resour ce on the earth, \n",
      "under the earth and above the earth, we have to empower the youth through va lue based \n",
      "education and leadership. \n",
      " \n",
      "Conclusion \n",
      "I was touched by the variety of Indian panorama, emotional content of  the tune, cultural \n",
      "diversity and unity of minds in the vast land of ours. I have cited thes e examples just to \n",
      "give a glimpse of the richness of our tradition and effort being taken by different agencies\n",
      "\n",
      "to preserve it. There are also many new adventures by instituti ons and individuals. I have \n",
      "experienced many of them and learnt a lot about my country and our peopl e. Even while \n",
      "pursuing our economic growth, we need to do a lot to preserve the rich and diverse \n",
      "treasures of our culture and civilization. It is our duty for our fut ure generations. This has \n",
      "to be done in a much larger scale through countrywide participatio n of multiple \n",
      "institutions. Our country is blessed with natural resources, has shown c onsiderable \n",
      "progress in the last sixty years, and above all we have hard wor king people particularly \n",
      "the power of the 540 million youth of the country. Every sector of our count ry has given \n",
      "me the \n",
      "confidence that India can become a developed nation well before 2020. Whomsoeve r, I \n",
      "met they constantly ask what they can give to the nation. We should c onstantly strive to \n",
      "empower such members of the society. With this spirit, I am extr emely happy that we are \n",
      "on the right path. Here I am reminded of a famous poem: \n",
      "\"When you wish upon a star, \n",
      "Makes no difference who you are, \n",
      "Anything your heart desires, \n",
      "Will come to you” \n",
      "This poem is true to all of us, and particularly for our youth and i f they aim great, I am \n",
      "sure they will reach close to the target or the target. \n",
      " \n",
      "My dear citizens, let us resolve to continue to work for realizing the missions of \n",
      "developed India 2020 with the following distinctive profile. \n",
      " \n",
      "1. A Nation where the rural and urban divide has reduced to a thin line. \n",
      " \n",
      "2. A Nation where there is an equitable distribution and adequate acce ss to energy and \n",
      "quality water. \n",
      " \n",
      "3. A Nation where agriculture, industry and service sector work together in symphony. \n",
      " \n",
      "4. A Nation where education with value system is not denied to any meritorious \n",
      "candidates because of societal or economic discrimination. \n",
      " \n",
      "5. A Nation which is the best destination for the most talented s cholars, scientists, and \n",
      "investors. \n",
      " \n",
      "6. A Nation where the best of health care is available to all. \n",
      " \n",
      "7. A Nation where the governance is responsive, transparent and corruption free. \n",
      " \n",
      "8. A Nation where poverty has been totally eradicated, illiterac y removed and crimes \n",
      "against women and children are absent and none in the society feels alienated. \n",
      " \n",
      "9. A Nation that is prosperous, healthy, secure, peaceful and happy a nd continues with a \n",
      "sustainable growth path.\n",
      "\n",
      "10. A Nation that is one of the best places to live in and is proud of its leadership. \n",
      " \n",
      "Finally let me thank each one of you for showering your love and aff ection on me \n",
      "throughout the last five years by your cooperation and support. \n",
      " \n",
      "Dear Citizens, I conclude my address by sharing with you my mission in life which is to \n",
      "bring connectivity between billion hearts and minds of the people of Indi a in our \n",
      "multicultural society and to embed the self confidence that \"we c an do it\". I will be \n",
      "always with you, dear citizens, in the great mission of making Indi a a developed nation \n",
      "before 2020. \n",
      " \n",
      "May God bless you. \n",
      " \n",
      "Jai hind. \n",
      "Dr. A. P. J. Abdul Kalam \n",
      "www.presidentofindia.nic.in\n",
      "\u001b[0m\n",
      "\n",
      "\u001b[1m> Finished chain.\u001b[0m\n",
      "\n",
      "\u001b[1m> Finished chain.\u001b[0m\n"
     ]
    },
    {
     "data": {
      "text/plain": [
       "\"In his farewell address, President A.P.J. Abdul Kalam highlights the key takeaways from his five-year term, emphasizing the aspirations of India's youth for a developed nation by 2020. \\n\\nHe stresses the importance of:\\n\\n* **Accelerating development** fueled by youth ambition.\\n* **Empowering villages** through infrastructure and connectivity.\\n* **Mobilizing rural skills** for competitiveness.\\n* **Focusing on agriculture** for sustainable growth.\\n* **Overcoming challenges** through resilience and partnership.\\n\\nHe celebrates the courage and commitment of India's armed forces and highlights the transformative power of technology through initiatives like the Pan African e-Network.\\n\\nKalam urges citizens to work together towards a developed India characterized by:\\n\\n* Reduced rural-urban divide.\\n* Equitable access to resources.\\n* Thriving agriculture, industry, and service sectors.\\n* Accessible, value-based education.\\n* A welcoming environment for talent and investment.\\n* Universal healthcare.\\n* Transparent and corruption-free governance.\\n* Eradication of poverty, illiteracy and crime.\\n* Sustainable growth and prosperity.\\n\\n\\nHis speech is a call to action, inspiring citizens to contribute to India's progress and realize the dream of a developed nation by 2020.\\n\\n*\\n\\n\\n\\n\""
      ]
     },
     "execution_count": 42,
     "metadata": {},
     "output_type": "execute_result"
    }
   ],
   "source": [
    "from langchain.chains.summarize import load_summarize_chain\n",
    "chain=load_summarize_chain(llm=llm,chain_type=\"stuff\",verbose=True,prompt=prompt)\n",
    "\n",
    "output_summary=chain.run(docs)\n",
    "output_summary"
   ]
  },
  {
   "cell_type": "markdown",
   "id": "7ad3f8c6",
   "metadata": {},
   "source": [
    "# MAP REDUCE summarization technique"
   ]
  },
  {
   "cell_type": "code",
   "execution_count": 43,
   "id": "6f346124",
   "metadata": {},
   "outputs": [],
   "source": [
    "from langchain_text_splitters import RecursiveCharacterTextSplitter"
   ]
  },
  {
   "cell_type": "code",
   "execution_count": 44,
   "id": "7801bef2",
   "metadata": {},
   "outputs": [],
   "source": [
    "# docs"
   ]
  },
  {
   "cell_type": "code",
   "execution_count": 45,
   "id": "edd72490",
   "metadata": {},
   "outputs": [],
   "source": [
    "text_splitter=RecursiveCharacterTextSplitter(chunk_size=1000,chunk_overlap=200)"
   ]
  },
  {
   "cell_type": "code",
   "execution_count": 46,
   "id": "9af2c074",
   "metadata": {},
   "outputs": [],
   "source": [
    "chunk_docs=text_splitter.split_documents(docs)\n",
    "#chunk_docs"
   ]
  },
  {
   "cell_type": "code",
   "execution_count": 47,
   "id": "b9cca4d3",
   "metadata": {},
   "outputs": [
    {
     "data": {
      "text/plain": [
       "24"
      ]
     },
     "execution_count": 47,
     "metadata": {},
     "output_type": "execute_result"
    }
   ],
   "source": [
    "len(chunk_docs)"
   ]
  },
  {
   "cell_type": "code",
   "execution_count": 48,
   "id": "4906cfd0",
   "metadata": {},
   "outputs": [
    {
     "data": {
      "text/plain": [
       "7"
      ]
     },
     "execution_count": 48,
     "metadata": {},
     "output_type": "execute_result"
    }
   ],
   "source": [
    "len(docs)"
   ]
  },
  {
   "cell_type": "code",
   "execution_count": 49,
   "id": "2672020f",
   "metadata": {},
   "outputs": [],
   "source": [
    "chunk_prompt=\"\"\" \n",
    "Please summarize the below speech\n",
    "Speech:{text}\n",
    "\"\"\"\n",
    "\n",
    "map_prompt_template=PromptTemplate(input_variables=[\"text\"],template=template)"
   ]
  },
  {
   "cell_type": "code",
   "execution_count": 50,
   "id": "ac9a6a9a",
   "metadata": {},
   "outputs": [
    {
     "data": {
      "text/plain": [
       "PromptTemplate(input_variables=['text'], input_types={}, partial_variables={}, template=' \\nProvide the final summary of entire speech with these important points.\\nAdd a Motivatinal Title,starts the precise summary with an introduction add provide the sumamry in \\nnumber points for the speech \\nSpeech:{text}\\n')"
      ]
     },
     "execution_count": 50,
     "metadata": {},
     "output_type": "execute_result"
    }
   ],
   "source": [
    "final_prompt=\"\"\" \n",
    "Provide the final summary of entire speech with these important points.\n",
    "Add a Motivatinal Title,starts the precise summary with an introduction add provide the sumamry in \n",
    "number points for the speech \n",
    "Speech:{text}\n",
    "\"\"\"\n",
    "\n",
    "final_prompt_template=PromptTemplate(input_variables=[\"text\"],template=final_prompt)\n",
    "final_prompt_template"
   ]
  },
  {
   "cell_type": "code",
   "execution_count": 51,
   "id": "442951e2",
   "metadata": {},
   "outputs": [],
   "source": [
    "summary_chain=load_summarize_chain(\n",
    "    llm=llm,\n",
    "    chain_type=\"map_reduce\",\n",
    "    map_prompt=map_prompt_template,\n",
    "    combine_prompt=final_prompt_template,\n",
    "    verbose=False\n",
    ")\n",
    "\n",
    "final_summary=summary_chain.run(chunk_docs)\n",
    "# final_summary"
   ]
  },
  {
   "cell_type": "markdown",
   "id": "affdbe7d",
   "metadata": {},
   "source": [
    "# REFINE CHAIN summarization technique"
   ]
  },
  {
   "cell_type": "code",
   "execution_count": 52,
   "id": "2fe27377",
   "metadata": {},
   "outputs": [],
   "source": [
    "refine_chain=load_summarize_chain(\n",
    "    llm=llm,\n",
    "    chain_type=\"refine\",\n",
    "    verbose=False \n",
    ")\n",
    "\n",
    "output_summary=refine_chain.run(chunk_docs)\n",
    "# output_summary"
   ]
  },
  {
   "cell_type": "code",
   "execution_count": null,
   "id": "a2d2f7fc",
   "metadata": {},
   "outputs": [],
   "source": []
  }
 ],
 "metadata": {
  "kernelspec": {
   "display_name": "Python 3",
   "language": "python",
   "name": "python3"
  },
  "language_info": {
   "codemirror_mode": {
    "name": "ipython",
    "version": 3
   },
   "file_extension": ".py",
   "mimetype": "text/x-python",
   "name": "python",
   "nbconvert_exporter": "python",
   "pygments_lexer": "ipython3",
   "version": "3.10.0"
  }
 },
 "nbformat": 4,
 "nbformat_minor": 5
}
